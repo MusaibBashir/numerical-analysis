{
 "cells": [
  {
   "cell_type": "code",
   "execution_count": 1,
   "id": "6a65fd2b-03ae-4546-abcb-1e63963c8336",
   "metadata": {},
   "outputs": [],
   "source": [
    "import numpy as np\n",
    "from tabulate import tabulate"
   ]
  },
  {
   "cell_type": "code",
   "execution_count": 2,
   "id": "af4986e2-fbe7-45ef-984b-eb94e32c0e94",
   "metadata": {},
   "outputs": [],
   "source": [
    "def input_matrix(n):\n",
    "    a_matrix=np.zeros((n,n))\n",
    "    for i in range(n):\n",
    "        for j in range(n):\n",
    "            a_matrix[i,j]=input(f\"Coeff for {i},{j}: \")\n",
    "    b_matrix=np.zeros((n,1))\n",
    "    for i in range(n):\n",
    "        b_matrix[i,0]=input(f\"RHS Value for {i}: \")\n",
    "    return a_matrix,b_matrix"
   ]
  },
  {
   "cell_type": "code",
   "execution_count": 3,
   "id": "cb6c4394-9ca4-496e-b991-573b3600288e",
   "metadata": {},
   "outputs": [],
   "source": [
    "def gauss_jacobi(n, a_matrix, b_matrix,x_i, iterations, tolerance, mode):\n",
    "    table_data = []  \n",
    "    prev_x = np.copy(x_i)\n",
    "    if mode==1:\n",
    "        for z in range(iterations):\n",
    "            all_coeff = -np.matmul(a_matrix, x_i)\n",
    "            for i in range(n):\n",
    "                all_coeff[i] += a_matrix[i, i] * x_i[i]\n",
    "            new_x = np.add(b_matrix, all_coeff)\n",
    "            for i in range(n):\n",
    "                new_x[i] /= a_matrix[i, i]\n",
    "            table_data.append([z + 1] + list(new_x))\n",
    "\n",
    "            prev_x = np.copy(new_x)\n",
    "            x_i = new_x\n",
    "\n",
    "    else:\n",
    "        z=0\n",
    "        while True:\n",
    "            all_coeff = -np.matmul(a_matrix, x_i)\n",
    "            for i in range(n):\n",
    "                all_coeff[i] += a_matrix[i, i] * x_i[i]\n",
    "            new_x = np.add(b_matrix, all_coeff)\n",
    "            for i in range(n):\n",
    "                new_x[i] /= a_matrix[i, i]\n",
    "            table_data.append([z + 1] + list(new_x))\n",
    "            if np.allclose(new_x, prev_x, atol=tolerance):\n",
    "                break\n",
    "            z+=1    \n",
    "            prev_x = np.copy(new_x)\n",
    "            x_i = new_x\n",
    "\n",
    "    headers = [\"Iteration\"] + [f\"X{i+1}\" for i in range(n)]\n",
    "    print(tabulate(table_data, headers=headers, tablefmt=\"grid\"))"
   ]
  },
  {
   "cell_type": "code",
   "execution_count": 14,
   "id": "de17e9dd-4277-4fbc-9615-dddaf0ea098f",
   "metadata": {},
   "outputs": [],
   "source": [
    "def gauss_jacobi_matrix(n, A,b,x_i,iterations, tol, mode):\n",
    "    table_data=[]\n",
    "    Diag=np.diag(A)\n",
    "    D=np.diagflat(Diag)\n",
    "    D_inv=np.linalg.inv(D)\n",
    "    R=A-D\n",
    "    T=-np.matmul(D_inv,R)\n",
    "    C=np.matmul(D_inv,b)\n",
    "    x=x_i\n",
    "    if mode==1:\n",
    "        for i in range(iterations):\n",
    "            x_old = x\n",
    "            x = np.matmul(T,x) + C\n",
    "            x_new = x\n",
    "            table_data.append([i + 1] + list(x_new))\n",
    "    else: \n",
    "        i = 0\n",
    "        while True:\n",
    "            x_old = x.copy() \n",
    "            x = np.matmul(T, x) + C \n",
    "            x_new = x \n",
    "            table_data.append([i + 1] + list(x_new)) \n",
    "            \n",
    "            if np.linalg.norm(x_new - x_old) <= tol:\n",
    "                break\n",
    "            i += 1\n",
    "            \n",
    "    headers = [\"Iteration\"] + [f\"X{i+1}\" for i in range(n)]\n",
    "    print(tabulate(table_data, headers=headers, tablefmt=\"grid\"))       "
   ]
  },
  {
   "cell_type": "code",
   "execution_count": 5,
   "id": "ad133d4e-37ec-4be3-a157-16075c9440d7",
   "metadata": {},
   "outputs": [],
   "source": [
    "def pre_iter(n):\n",
    "    a_matrix,b_matrix=input_matrix(n)\n",
    "    x_i=np.zeros((n,1))\n",
    "    for i in range(n):\n",
    "        x_i[i,0]=input(f\"Initial Guess for x{i+1}\")\n",
    "    iterations=int(input(\"No. of iter:{if tol mode enter 0} \"))\n",
    "    tol=int(input(\"No. of decimal place accuracy:{if iter mode enter 0} \"))\n",
    "    tol=10**(-tol)\n",
    "    return x_i, a_matrix, b_matrix, iterations, tol"
   ]
  },
  {
   "cell_type": "code",
   "execution_count": 6,
   "id": "86f5283a-1876-4c2d-9b7f-a37fdddcab9c",
   "metadata": {},
   "outputs": [
    {
     "name": "stdin",
     "output_type": "stream",
     "text": [
      "Coeff for 0,0:  12\n",
      "Coeff for 0,1:  3\n",
      "Coeff for 0,2:  -5\n",
      "Coeff for 1,0:  1\n",
      "Coeff for 1,1:  5\n",
      "Coeff for 1,2:  3\n",
      "Coeff for 2,0:  3\n",
      "Coeff for 2,1:  7\n",
      "Coeff for 2,2:  13\n",
      "RHS Value for 0:  1\n",
      "RHS Value for 1:  28\n",
      "RHS Value for 2:  76\n",
      "Initial Guess for x1 1\n",
      "Initial Guess for x2 0\n",
      "Initial Guess for x3 1\n",
      "No. of iter:{if tol mode enter 0}  6\n",
      "No. of decimal place accuracy:{if iter mode enter 0}  3\n"
     ]
    }
   ],
   "source": [
    "x_i, a_matrix, b_matrix, iterations, tol= pre_iter(3)"
   ]
  },
  {
   "cell_type": "code",
   "execution_count": 40,
   "id": "1e4c50b7-0912-43e2-a82b-8fc4c2ce4a07",
   "metadata": {},
   "outputs": [
    {
     "name": "stdout",
     "output_type": "stream",
     "text": [
      "+-------------+----------+---------+---------+\n",
      "|   Iteration |       X1 |      X2 |      X3 |\n",
      "+=============+==========+=========+=========+\n",
      "|           1 | 0.5      | 4.8     | 5.61538 |\n",
      "+-------------+----------+---------+---------+\n",
      "|           2 | 1.22308  | 2.13077 | 3.14615 |\n",
      "+-------------+----------+---------+---------+\n",
      "|           3 | 0.861538 | 3.46769 | 4.41657 |\n",
      "+-------------+----------+---------+---------+\n",
      "|           4 | 1.05665  | 2.77775 | 3.78012 |\n",
      "+-------------+----------+---------+---------+\n",
      "|           5 | 0.963945 | 3.1206  | 4.1066  |\n",
      "+-------------+----------+---------+---------+\n",
      "|           6 | 1.01427  | 2.94325 | 3.94338 |\n",
      "+-------------+----------+---------+---------+\n"
     ]
    }
   ],
   "source": [
    "#mode 1=iterations, mode 2=tolerance\n",
    "mode=1\n",
    "gauss_jacobi(3, a_matrix, b_matrix,x_i, iterations, tol, mode)"
   ]
  },
  {
   "cell_type": "code",
   "execution_count": 41,
   "id": "eca1a12c-5438-4abf-b1c3-fc0ef3e53901",
   "metadata": {},
   "outputs": [
    {
     "name": "stdout",
     "output_type": "stream",
     "text": [
      "+-------------+----------+---------+---------+\n",
      "|   Iteration |       X1 |      X2 |      X3 |\n",
      "+=============+==========+=========+=========+\n",
      "|           1 | 0.5      | 4.8     | 5.61538 |\n",
      "+-------------+----------+---------+---------+\n",
      "|           2 | 1.22308  | 2.13077 | 3.14615 |\n",
      "+-------------+----------+---------+---------+\n",
      "|           3 | 0.861538 | 3.46769 | 4.41657 |\n",
      "+-------------+----------+---------+---------+\n",
      "|           4 | 1.05665  | 2.77775 | 3.78012 |\n",
      "+-------------+----------+---------+---------+\n",
      "|           5 | 0.963945 | 3.1206  | 4.1066  |\n",
      "+-------------+----------+---------+---------+\n",
      "|           6 | 1.01427  | 2.94325 | 3.94338 |\n",
      "+-------------+----------+---------+---------+\n"
     ]
    }
   ],
   "source": [
    "gauss_jacobi_matrix(3, a_matrix, b_matrix,x_i, iterations, tol, mode)"
   ]
  },
  {
   "cell_type": "code",
   "execution_count": 34,
   "id": "bb11e0ac-c43a-4b17-ae7e-9347db6f78be",
   "metadata": {},
   "outputs": [],
   "source": [
    "def gauss_siedel(n, A, b,x_i, iterations, tolerance):\n",
    "    table_data=[]\n",
    "    L = np.tril(A)\n",
    "    U = np.triu(A,1)\n",
    "    L_inv = np.linalg.inv(L)\n",
    "    T = -np.matmul(L_inv,U)\n",
    "    C = np.matmul(L_inv,b)\n",
    "    x = x_i\n",
    "    \n",
    "    for i in range(iterations):\n",
    "        x_old = x\n",
    "        x = np.matmul(T,x) + C\n",
    "        x_new = x\n",
    "        table_data.append([i + 1] + list(x_new))\n",
    "        if np.allclose(x_new, x_old, atol=tolerance):\n",
    "            break\n",
    "    headers = [\"Iteration\"] + [f\"X{i+1}\" for i in range(n)]\n",
    "    print(tabulate(table_data, headers=headers, tablefmt=\"grid\")) \n",
    "    return x"
   ]
  },
  {
   "cell_type": "code",
   "execution_count": 39,
   "id": "8c7f3e90-340c-4b91-9739-48c60a208f33",
   "metadata": {},
   "outputs": [
    {
     "name": "stdout",
     "output_type": "stream",
     "text": [
      "+-------------+----------+---------+---------+\n",
      "|   Iteration |       X1 |      X2 |      X3 |\n",
      "+=============+==========+=========+=========+\n",
      "|           1 | 0.5      | 4.9     | 3.09231 |\n",
      "+-------------+----------+---------+---------+\n",
      "|           2 | 0.146795 | 3.71526 | 3.81176 |\n",
      "+-------------+----------+---------+---------+\n",
      "|           3 | 0.742751 | 3.1644  | 3.97084 |\n",
      "+-------------+----------+---------+---------+\n",
      "|           4 | 0.946753 | 3.02814 | 3.99713 |\n",
      "+-------------+----------+---------+---------+\n",
      "|           5 | 0.99177  | 3.00337 | 4.00009 |\n",
      "+-------------+----------+---------+---------+\n",
      "|           6 | 0.999195 | 3.00011 | 4.00013 |\n",
      "+-------------+----------+---------+---------+\n"
     ]
    }
   ],
   "source": [
    "m=gauss_siedel(3,a_matrix,b_matrix,x_i,6,1/np.inf)"
   ]
  },
  {
   "cell_type": "code",
   "execution_count": null,
   "id": "528b1e4e-c4c4-4783-b1e1-391fe45c0a67",
   "metadata": {},
   "outputs": [],
   "source": []
  }
 ],
 "metadata": {
  "kernelspec": {
   "display_name": "Python 3 (ipykernel)",
   "language": "python",
   "name": "python3"
  },
  "language_info": {
   "codemirror_mode": {
    "name": "ipython",
    "version": 3
   },
   "file_extension": ".py",
   "mimetype": "text/x-python",
   "name": "python",
   "nbconvert_exporter": "python",
   "pygments_lexer": "ipython3",
   "version": "3.12.9"
  }
 },
 "nbformat": 4,
 "nbformat_minor": 5
}
