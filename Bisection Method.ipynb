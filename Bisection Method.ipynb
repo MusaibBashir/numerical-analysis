{
 "cells": [
  {
   "cell_type": "code",
   "execution_count": 1,
   "id": "83465ca7-04cd-4717-adfd-a4d5fe656a1e",
   "metadata": {},
   "outputs": [],
   "source": [
    "import numpy as np\n",
    "from tabulate import tabulate\n",
    "import sympy as sp"
   ]
  },
  {
   "cell_type": "code",
   "execution_count": 2,
   "id": "9baef2e5-86cc-4555-bb97-a7a0e66a2fc5",
   "metadata": {},
   "outputs": [],
   "source": [
    "def print_table(results):\n",
    "    print(f\"{'Iter':<5}{'a':<10}{'p':<10}{'b':<10}{'FP':<10}{'Error':<10}\")\n",
    "    print(\"-\" * 60)\n",
    "    for row in results:\n",
    "        print(f\"{row[0]:<5}{row[1]:<10.6f}{row[2]:<10.6f}{row[3]:<10.6f}{row[4]:<10.6f}{row[5]:<10.6f}\")\n",
    "    print(\"\\n\")"
   ]
  },
  {
   "cell_type": "code",
   "execution_count": 3,
   "id": "f55262c0-0962-4969-980a-20ec39873dca",
   "metadata": {},
   "outputs": [],
   "source": [
    "def bisection(a, b, tol, N):\n",
    "    FA=fx(a)\n",
    "    results=[]\n",
    "    for i in range(N):\n",
    "        p=a+((b-a)/2)\n",
    "        FP=fx(p)\n",
    "        error = (b - a) / 2\n",
    "        results.append([i+1, a, p,b, FP, error])\n",
    "        if FP==0 or error<=tol:\n",
    "            print_table(results)\n",
    "            return p\n",
    "        if FA*FP>0:\n",
    "            a=p\n",
    "            FA=FP\n",
    "        else:\n",
    "            b=p\n",
    "    print_table(results)\n",
    "    print(\"Method Fail\")\n",
    "    return 0"
   ]
  },
  {
   "cell_type": "markdown",
   "id": "6585dfa9-2393-4242-893b-da4bfca4998f",
   "metadata": {},
   "source": [
    "# Change Equation here:"
   ]
  },
  {
   "cell_type": "code",
   "execution_count": 4,
   "id": "4f698705-f523-487b-980b-58cca1bc29dd",
   "metadata": {},
   "outputs": [],
   "source": [
    "def fx(a):\n",
    "    x = sp.symbols('x')\n",
    "    equation = \"cos(x)-x*exp(x)\" \n",
    "    parsed_eq = sp.sympify(equation)\n",
    "    result = parsed_eq.subs(x, a)\n",
    "    return result.evalf()"
   ]
  },
  {
   "cell_type": "code",
   "execution_count": 6,
   "id": "a3905e1e-a153-41d9-92a7-b975b73eddf1",
   "metadata": {},
   "outputs": [
    {
     "name": "stdout",
     "output_type": "stream",
     "text": [
      "Iter a         p         b         FP        Error     \n",
      "------------------------------------------------------------\n",
      "1    0.000000  0.500000  1.000000  0.053222  0.500000  \n",
      "2    0.500000  0.750000  1.000000  -0.856061 0.250000  \n",
      "3    0.500000  0.625000  0.750000  -0.356691 0.125000  \n",
      "4    0.500000  0.562500  0.625000  -0.141294 0.062500  \n",
      "5    0.500000  0.531250  0.562500  -0.041512 0.031250  \n",
      "6    0.500000  0.515625  0.531250  0.006475  0.015625  \n",
      "7    0.515625  0.523438  0.531250  -0.017362 0.007812  \n",
      "8    0.515625  0.519531  0.523438  -0.005404 0.003906  \n",
      "9    0.515625  0.517578  0.519531  0.000545  0.001953  \n",
      "10   0.517578  0.518555  0.519531  -0.002427 0.000977  \n",
      "11   0.517578  0.518066  0.518555  -0.000940 0.000488  \n",
      "12   0.517578  0.517822  0.518066  -0.000197 0.000244  \n",
      "13   0.517578  0.517700  0.517822  0.000174  0.000122  \n",
      "14   0.517700  0.517761  0.517822  -0.000012 0.000061  \n",
      "15   0.517700  0.517731  0.517761  0.000081  0.000031  \n",
      "16   0.517731  0.517746  0.517761  0.000035  0.000015  \n",
      "17   0.517746  0.517754  0.517761  0.000011  0.000008  \n",
      "18   0.517754  0.517757  0.517761  -0.000000 0.000004  \n",
      "19   0.517754  0.517756  0.517757  0.000006  0.000002  \n",
      "20   0.517756  0.517756  0.517757  0.000003  0.000001  \n",
      "\n",
      "\n",
      "0.517756462097168\n"
     ]
    }
   ],
   "source": [
    "root=bisection(0,1,1e-6,50)\n",
    "print(root)"
   ]
  },
  {
   "cell_type": "code",
   "execution_count": null,
   "id": "85682d13-d996-4788-80b0-7d75a570ff31",
   "metadata": {},
   "outputs": [],
   "source": []
  }
 ],
 "metadata": {
  "kernelspec": {
   "display_name": "Python 3 (ipykernel)",
   "language": "python",
   "name": "python3"
  },
  "language_info": {
   "codemirror_mode": {
    "name": "ipython",
    "version": 3
   },
   "file_extension": ".py",
   "mimetype": "text/x-python",
   "name": "python",
   "nbconvert_exporter": "python",
   "pygments_lexer": "ipython3",
   "version": "3.12.9"
  }
 },
 "nbformat": 4,
 "nbformat_minor": 5
}
