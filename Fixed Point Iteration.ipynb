{
 "cells": [
  {
   "cell_type": "markdown",
   "id": "d0ad5743-96a5-4cf0-b043-8f66ab784470",
   "metadata": {},
   "source": [
    "# Fixed Point Iteration Method"
   ]
  },
  {
   "cell_type": "code",
   "execution_count": 9,
   "id": "919a745c-e560-4eff-a218-8c2444375751",
   "metadata": {},
   "outputs": [],
   "source": [
    "import numpy as np\n",
    "import sympy as sp"
   ]
  },
  {
   "cell_type": "markdown",
   "id": "44a9a754-fd55-44cb-a5cf-b5588ff7746a",
   "metadata": {},
   "source": [
    "## Change equation here"
   ]
  },
  {
   "cell_type": "code",
   "execution_count": 68,
   "id": "c6074148-45c0-4466-b596-97839863036d",
   "metadata": {},
   "outputs": [
    {
     "name": "stdout",
     "output_type": "stream",
     "text": [
      "g'(x): cos(x)/10\n"
     ]
    }
   ],
   "source": [
    "x = sp.Symbol('x')\n",
    "g = ((sp.sin(x)-10)/10)\n",
    "\n",
    "g_prime = sp.diff(g, x)\n",
    "g_prime_func = sp.lambdify(x, g_prime)\n",
    "print(f\"g'(x): {g_prime}\")\n",
    "\n",
    "g_func = sp.lambdify(x, g)"
   ]
  },
  {
   "cell_type": "markdown",
   "id": "22a87a35-f79f-4573-b663-53c25363819e",
   "metadata": {},
   "source": [
    "## Change initial guess, tolerance and max iterations here"
   ]
  },
  {
   "cell_type": "code",
   "execution_count": 67,
   "id": "c852f568-db4e-445b-9780-95b0ea3b4be6",
   "metadata": {},
   "outputs": [
    {
     "name": "stdout",
     "output_type": "stream",
     "text": [
      "Iteration 1: x = -0.9520574461395797\n",
      "Iteration 2: x = -1.081461056394418\n",
      "Iteration 3: x = -1.088264550260906\n",
      "Iteration 4: x = -1.0885822959578257\n",
      "Converged to root: -1.0885822959578257\n"
     ]
    }
   ],
   "source": [
    "x0 =0.5  # Initial guess\n",
    "tolerance = 1e-3\n",
    "max_iter = 100\n",
    "if abs(g_prime_func(x0)) >= 1:\n",
    "    print(f\"May not converge because |g'({x0})| = {abs(g_prime_func(x0))} ≥ 1\")\n",
    "else:\n",
    "    for i in range(max_iter):\n",
    "        x_next = g_func(x0)\n",
    "        print(f\"Iteration {i+1}: x = {x_next}\")\n",
    "    \n",
    "        if abs(x_next - x0) < tolerance:\n",
    "            print(f\"Converged to root: {x_next}\")\n",
    "            break\n",
    "    \n",
    "        x0 = x_next\n",
    "    else:\n",
    "        print(\"Did not converge within the maximum iterations.\")"
   ]
  },
  {
   "cell_type": "code",
   "execution_count": null,
   "id": "3ed05824-c913-436a-86d1-39284df942ff",
   "metadata": {},
   "outputs": [],
   "source": []
  }
 ],
 "metadata": {
  "kernelspec": {
   "display_name": "Python 3 (ipykernel)",
   "language": "python",
   "name": "python3"
  },
  "language_info": {
   "codemirror_mode": {
    "name": "ipython",
    "version": 3
   },
   "file_extension": ".py",
   "mimetype": "text/x-python",
   "name": "python",
   "nbconvert_exporter": "python",
   "pygments_lexer": "ipython3",
   "version": "3.12.9"
  }
 },
 "nbformat": 4,
 "nbformat_minor": 5
}
